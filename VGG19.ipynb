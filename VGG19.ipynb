{
  "nbformat": 4,
  "nbformat_minor": 0,
  "metadata": {
    "colab": {
      "provenance": [],
      "collapsed_sections": [],
      "include_colab_link": true
    },
    "kernelspec": {
      "name": "python3",
      "display_name": "Python 3"
    },
    "language_info": {
      "name": "python"
    },
    "accelerator": "GPU"
  },
  "cells": [
    {
      "cell_type": "markdown",
      "metadata": {
        "id": "view-in-github",
        "colab_type": "text"
      },
      "source": [
        "<a href=\"https://colab.research.google.com/github/Bhavya-2k03/Comparative_analysis_of_Deep_learning_models_for_Surgical_Tool_Detection/blob/main/VGG19.ipynb\" target=\"_parent\"><img src=\"https://colab.research.google.com/assets/colab-badge.svg\" alt=\"Open In Colab\"/></a>"
      ]
    },
    {
      "cell_type": "code",
      "source": [
        "#importing libraries\n",
        "import tensorflow as tf\n",
        "import matplotlib.pyplot as plt\n",
        "import numpy as np\n",
        "import random\n",
        "import seaborn as sn"
      ],
      "metadata": {
        "id": "TM_sFRT9WhGL"
      },
      "execution_count": 1,
      "outputs": []
    },
    {
      "cell_type": "code",
      "source": [
        "# getting the cholec-tinytools dataset\n",
        "path=tf.keras.utils.get_file(\"cholec-tinytools.zip\",'https://s3.unistra.fr/camma_public/github/ai4surgery/cholec-tinytools.zip',extract=True)\n",
        "path=path.strip(\".zip\")\n",
        "print(path)"
      ],
      "metadata": {
        "colab": {
          "base_uri": "https://localhost:8080/"
        },
        "id": "njbQcTTrWZCL",
        "outputId": "c9533247-4731-4fee-d4c6-6f0d4ff5913b"
      },
      "execution_count": 2,
      "outputs": [
        {
          "output_type": "stream",
          "name": "stdout",
          "text": [
            "Downloading data from https://s3.unistra.fr/camma_public/github/ai4surgery/cholec-tinytools.zip\n",
            "41639936/41633689 [==============================] - 4s 0us/step\n",
            "41648128/41633689 [==============================] - 4s 0us/step\n",
            "/root/.keras/datasets/cholec-tinytools\n"
          ]
        }
      ]
    },
    {
      "cell_type": "code",
      "source": [
        "Batch_size=20 #batch_size\n",
        "Image_size=(86,128) #image size \n",
        "Class_names=['grasper', 'hook', 'scissor', 'clipper'] # name of surgical tools"
      ],
      "metadata": {
        "id": "4MLQEVgixoyO"
      },
      "execution_count": 3,
      "outputs": []
    },
    {
      "cell_type": "code",
      "source": [
        "train_set=tf.keras.preprocessing.image.DirectoryIterator(\n",
        "    path+\"/train\", #train images path   \n",
        "    # preprocessing images \n",
        "    # rescaling is being done to reduce computational power\n",
        "    # images are being rotated randomly from a range of 0 to 20 degrees at the time of training so that our model classifies tools correctly even if they are being rotated(which is a common case in surguries )\n",
        "    tf.keras.preprocessing.image.ImageDataGenerator(rescale=1./255,rotation_range=20),\n",
        "    batch_size=Batch_size,\n",
        "    target_size=Image_size,\n",
        "    classes=Class_names,\n",
        "    shuffle=True,\n",
        ")\n",
        "validation_set=tf.keras.preprocessing.image.DirectoryIterator(\n",
        "    path+\"/validation\",# validation images path.\n",
        "    # preprocessing images \n",
        "    # rescaling is again being done to reduce computational power\n",
        "    tf.keras.preprocessing.image.ImageDataGenerator(rescale=1./255),\n",
        "    batch_size=Batch_size,\n",
        "    target_size=Image_size,\n",
        "    classes=Class_names\n",
        ")\n",
        "test_set=tf.keras.preprocessing.image.DirectoryIterator(\n",
        "    path+'/test',# test images path\n",
        "    # preprocessing images \n",
        "    # rescaling is again being done to reduce computational power\n",
        "    tf.keras.preprocessing.image.ImageDataGenerator(rescale=1./255),\n",
        "    batch_size=Batch_size,\n",
        "    target_size=Image_size,\n",
        "    classes=Class_names\n",
        ")"
      ],
      "metadata": {
        "colab": {
          "base_uri": "https://localhost:8080/"
        },
        "id": "BV0O_vu2nWkT",
        "outputId": "1ff2c241-e576-4b70-c55c-52c4db9f3417"
      },
      "execution_count": 4,
      "outputs": [
        {
          "output_type": "stream",
          "name": "stdout",
          "text": [
            "Found 1200 images belonging to 4 classes.\n",
            "Found 200 images belonging to 4 classes.\n",
            "Found 599 images belonging to 4 classes.\n"
          ]
        }
      ]
    },
    {
      "cell_type": "code",
      "execution_count": 5,
      "metadata": {
        "id": "lsAFK5D-SBwl"
      },
      "outputs": [],
      "source": [
        "#importing VGG19 (convolution layers only) from keras.applications\n",
        "from tensorflow.keras.applications.vgg19 import VGG19"
      ]
    },
    {
      "cell_type": "code",
      "source": [
        "VGG_19=VGG19(weights=\"imagenet\",include_top=False)"
      ],
      "metadata": {
        "colab": {
          "base_uri": "https://localhost:8080/"
        },
        "id": "px8pITKFSllj",
        "outputId": "ed9247a1-73dd-47a2-fbbd-304c560e5794"
      },
      "execution_count": 6,
      "outputs": [
        {
          "output_type": "stream",
          "name": "stdout",
          "text": [
            "Downloading data from https://storage.googleapis.com/tensorflow/keras-applications/vgg19/vgg19_weights_tf_dim_ordering_tf_kernels_notop.h5\n",
            "80142336/80134624 [==============================] - 1s 0us/step\n",
            "80150528/80134624 [==============================] - 1s 0us/step\n"
          ]
        }
      ]
    },
    {
      "cell_type": "code",
      "source": [
        "# summary of our imported model\n",
        "VGG_19.summary()"
      ],
      "metadata": {
        "colab": {
          "base_uri": "https://localhost:8080/"
        },
        "id": "UQp3DY4Hq2vG",
        "outputId": "a9e1b5fd-d413-4bdd-ddf1-0e25cdd0f04d"
      },
      "execution_count": 8,
      "outputs": [
        {
          "output_type": "stream",
          "name": "stdout",
          "text": [
            "Model: \"vgg19\"\n",
            "_________________________________________________________________\n",
            " Layer (type)                Output Shape              Param #   \n",
            "=================================================================\n",
            " input_1 (InputLayer)        [(None, None, None, 3)]   0         \n",
            "                                                                 \n",
            " block1_conv1 (Conv2D)       (None, None, None, 64)    1792      \n",
            "                                                                 \n",
            " block1_conv2 (Conv2D)       (None, None, None, 64)    36928     \n",
            "                                                                 \n",
            " block1_pool (MaxPooling2D)  (None, None, None, 64)    0         \n",
            "                                                                 \n",
            " block2_conv1 (Conv2D)       (None, None, None, 128)   73856     \n",
            "                                                                 \n",
            " block2_conv2 (Conv2D)       (None, None, None, 128)   147584    \n",
            "                                                                 \n",
            " block2_pool (MaxPooling2D)  (None, None, None, 128)   0         \n",
            "                                                                 \n",
            " block3_conv1 (Conv2D)       (None, None, None, 256)   295168    \n",
            "                                                                 \n",
            " block3_conv2 (Conv2D)       (None, None, None, 256)   590080    \n",
            "                                                                 \n",
            " block3_conv3 (Conv2D)       (None, None, None, 256)   590080    \n",
            "                                                                 \n",
            " block3_conv4 (Conv2D)       (None, None, None, 256)   590080    \n",
            "                                                                 \n",
            " block3_pool (MaxPooling2D)  (None, None, None, 256)   0         \n",
            "                                                                 \n",
            " block4_conv1 (Conv2D)       (None, None, None, 512)   1180160   \n",
            "                                                                 \n",
            " block4_conv2 (Conv2D)       (None, None, None, 512)   2359808   \n",
            "                                                                 \n",
            " block4_conv3 (Conv2D)       (None, None, None, 512)   2359808   \n",
            "                                                                 \n",
            " block4_conv4 (Conv2D)       (None, None, None, 512)   2359808   \n",
            "                                                                 \n",
            " block4_pool (MaxPooling2D)  (None, None, None, 512)   0         \n",
            "                                                                 \n",
            " block5_conv1 (Conv2D)       (None, None, None, 512)   2359808   \n",
            "                                                                 \n",
            " block5_conv2 (Conv2D)       (None, None, None, 512)   2359808   \n",
            "                                                                 \n",
            " block5_conv3 (Conv2D)       (None, None, None, 512)   2359808   \n",
            "                                                                 \n",
            " block5_conv4 (Conv2D)       (None, None, None, 512)   2359808   \n",
            "                                                                 \n",
            " block5_pool (MaxPooling2D)  (None, None, None, 512)   0         \n",
            "                                                                 \n",
            "=================================================================\n",
            "Total params: 20,024,384\n",
            "Trainable params: 20,024,384\n",
            "Non-trainable params: 0\n",
            "_________________________________________________________________\n"
          ]
        }
      ]
    },
    {
      "cell_type": "code",
      "source": [
        "# building the model\n",
        "model=tf.keras.models.Sequential()\n",
        "# adding imported VGG19\n",
        "model.add(VGG_19)\n",
        "# Adding GAP layer\n",
        "model.add(tf.keras.layers.GlobalAveragePooling2D(name=\"GAP\"))\n",
        "# Adding dense layer with 4 nodes(because total number of classes are 4) to get final prediction\n",
        "model.add(tf.keras.layers.Dense(4,activation=tf.keras.activations.softmax,name=\"Prediction\"))"
      ],
      "metadata": {
        "id": "d53bWNJCTG4L"
      },
      "execution_count": 9,
      "outputs": []
    },
    {
      "cell_type": "code",
      "source": [
        "model.compile(loss='categorical_crossentropy',\n",
        "              optimizer=tf.keras.optimizers.RMSprop(lr=2e-5),\n",
        "              metrics=['accuracy'])"
      ],
      "metadata": {
        "colab": {
          "base_uri": "https://localhost:8080/"
        },
        "id": "YokGXm_Q07KP",
        "outputId": "05ac1d6a-c3ee-4455-af89-a0c43d6e8738"
      },
      "execution_count": 10,
      "outputs": [
        {
          "output_type": "stream",
          "name": "stderr",
          "text": [
            "/usr/local/lib/python3.7/dist-packages/keras/optimizer_v2/rmsprop.py:130: UserWarning: The `lr` argument is deprecated, use `learning_rate` instead.\n",
            "  super(RMSprop, self).__init__(name, **kwargs)\n"
          ]
        }
      ]
    },
    {
      "cell_type": "code",
      "source": [
        "model.summary()\n",
        "# summary of our final model"
      ],
      "metadata": {
        "colab": {
          "base_uri": "https://localhost:8080/"
        },
        "id": "nrrv72-w18hx",
        "outputId": "deb0e788-9cd3-4bd5-e301-2c6c580a9146"
      },
      "execution_count": 11,
      "outputs": [
        {
          "output_type": "stream",
          "name": "stdout",
          "text": [
            "Model: \"sequential\"\n",
            "_________________________________________________________________\n",
            " Layer (type)                Output Shape              Param #   \n",
            "=================================================================\n",
            " vgg19 (Functional)          (None, None, None, 512)   20024384  \n",
            "                                                                 \n",
            " GAP (GlobalAveragePooling2D  (None, 512)              0         \n",
            " )                                                               \n",
            "                                                                 \n",
            " Prediction (Dense)          (None, 4)                 2052      \n",
            "                                                                 \n",
            "=================================================================\n",
            "Total params: 20,026,436\n",
            "Trainable params: 20,026,436\n",
            "Non-trainable params: 0\n",
            "_________________________________________________________________\n"
          ]
        }
      ]
    },
    {
      "cell_type": "code",
      "source": [
        "history = model.fit(train_set, validation_data=validation_set, epochs=20,verbose=1,callbacks=tf.keras.callbacks.EarlyStopping(monitor=\"val_accuracy\",patience=6,restore_best_weights=True))\n",
        "# early stopping method of callbacks is applied so that the model does not overfit "
      ],
      "metadata": {
        "colab": {
          "base_uri": "https://localhost:8080/"
        },
        "id": "BZwVrEnzVq03",
        "outputId": "68c2eb15-900b-4c6b-f430-730f79005dcb"
      },
      "execution_count": 12,
      "outputs": [
        {
          "output_type": "stream",
          "name": "stdout",
          "text": [
            "Epoch 1/20\n",
            "60/60 [==============================] - 23s 115ms/step - loss: 0.6993 - accuracy: 0.7483 - val_loss: 1.1085 - val_accuracy: 0.6750\n",
            "Epoch 2/20\n",
            "60/60 [==============================] - 7s 111ms/step - loss: 0.3144 - accuracy: 0.8917 - val_loss: 0.3039 - val_accuracy: 0.8950\n",
            "Epoch 3/20\n",
            "60/60 [==============================] - 7s 111ms/step - loss: 0.1979 - accuracy: 0.9300 - val_loss: 0.3116 - val_accuracy: 0.9150\n",
            "Epoch 4/20\n",
            "60/60 [==============================] - 7s 112ms/step - loss: 0.1117 - accuracy: 0.9600 - val_loss: 0.4128 - val_accuracy: 0.8900\n",
            "Epoch 5/20\n",
            "60/60 [==============================] - 7s 112ms/step - loss: 0.1013 - accuracy: 0.9633 - val_loss: 0.6651 - val_accuracy: 0.8450\n",
            "Epoch 6/20\n",
            "60/60 [==============================] - 7s 113ms/step - loss: 0.0711 - accuracy: 0.9783 - val_loss: 0.2656 - val_accuracy: 0.9450\n",
            "Epoch 7/20\n",
            "60/60 [==============================] - 7s 113ms/step - loss: 0.0717 - accuracy: 0.9775 - val_loss: 0.3055 - val_accuracy: 0.9400\n",
            "Epoch 8/20\n",
            "60/60 [==============================] - 7s 113ms/step - loss: 0.0399 - accuracy: 0.9858 - val_loss: 0.3535 - val_accuracy: 0.9400\n",
            "Epoch 9/20\n",
            "60/60 [==============================] - 7s 114ms/step - loss: 0.0370 - accuracy: 0.9867 - val_loss: 0.3984 - val_accuracy: 0.9150\n",
            "Epoch 10/20\n",
            "60/60 [==============================] - 7s 114ms/step - loss: 0.0223 - accuracy: 0.9933 - val_loss: 0.3586 - val_accuracy: 0.9550\n",
            "Epoch 11/20\n",
            "60/60 [==============================] - 7s 115ms/step - loss: 0.0208 - accuracy: 0.9942 - val_loss: 0.3034 - val_accuracy: 0.9650\n",
            "Epoch 12/20\n",
            "60/60 [==============================] - 7s 116ms/step - loss: 0.0404 - accuracy: 0.9858 - val_loss: 0.5223 - val_accuracy: 0.9400\n",
            "Epoch 13/20\n",
            "60/60 [==============================] - 7s 116ms/step - loss: 0.0201 - accuracy: 0.9950 - val_loss: 0.3611 - val_accuracy: 0.9550\n",
            "Epoch 14/20\n",
            "60/60 [==============================] - 7s 116ms/step - loss: 0.0143 - accuracy: 0.9975 - val_loss: 0.3438 - val_accuracy: 0.9650\n",
            "Epoch 15/20\n",
            "60/60 [==============================] - 7s 117ms/step - loss: 0.0213 - accuracy: 0.9925 - val_loss: 0.5324 - val_accuracy: 0.9050\n",
            "Epoch 16/20\n",
            "60/60 [==============================] - 7s 117ms/step - loss: 0.0095 - accuracy: 0.9975 - val_loss: 0.3556 - val_accuracy: 0.9650\n",
            "Epoch 17/20\n",
            "60/60 [==============================] - 7s 117ms/step - loss: 0.0128 - accuracy: 0.9975 - val_loss: 0.4286 - val_accuracy: 0.9600\n"
          ]
        }
      ]
    },
    {
      "cell_type": "code",
      "source": [
        "from google.colab import drive\n",
        "drive.mount('/content/drive')"
      ],
      "metadata": {
        "id": "rY0FQ5ihIFmI"
      },
      "execution_count": null,
      "outputs": []
    },
    {
      "cell_type": "code",
      "source": [
        "model.save_weights(\"VGG19.h5\")"
      ],
      "metadata": {
        "id": "VQqmEsOaF4nc"
      },
      "execution_count": null,
      "outputs": []
    },
    {
      "cell_type": "code",
      "source": [
        "#plotting graph of accuracy vs number of epochs \n",
        "plt.plot(history.history['accuracy'],marker=\"o\") #plotting model accuracy on train set\n",
        "plt.plot(history.history['val_accuracy'],marker=\"o\") # plotting model accuracy on validation set\n",
        "plt.title('Model accuracy v/s epochs')\n",
        "plt.ylabel('Accuracy')\n",
        "plt.xlabel('Epochs')\n",
        "plt.xticks([0,4,8,12,16,20]) # scaling of x axis \n",
        "plt.yticks([0.1,0.2,0.3,0.4,0.5,0.6,0.7,0.8,0.9,1.0]) # scaling of y axis\n",
        "plt.legend(['Train', 'Test']) #adding legends\n",
        "plt.show()"
      ],
      "metadata": {
        "colab": {
          "base_uri": "https://localhost:8080/",
          "height": 295
        },
        "id": "bvE3GhWy1lYg",
        "outputId": "1e14c5fb-1d3d-4f5b-d36a-167a83b2de82"
      },
      "execution_count": 13,
      "outputs": [
        {
          "output_type": "display_data",
          "data": {
            "text/plain": [
              "<Figure size 432x288 with 1 Axes>"
            ],
            "image/png": "[encoded data removed]"
          },
          "metadata": {
            "needs_background": "light"
          }
        }
      ]
    },
    {
      "cell_type": "code",
      "source": [
        "his_tory=model.evaluate(test_set)#evaluating model on test set "
      ],
      "metadata": {
        "colab": {
          "base_uri": "https://localhost:8080/"
        },
        "id": "gwdC_BYlXR8-",
        "outputId": "ffda5f32-30d7-40e6-dff8-48f5d3a44924"
      },
      "execution_count": 14,
      "outputs": [
        {
          "output_type": "stream",
          "name": "stdout",
          "text": [
            "30/30 [==============================] - 2s 71ms/step - loss: 0.3471 - accuracy: 0.9399\n"
          ]
        }
      ]
    },
    {
      "cell_type": "code",
      "source": [
        "#visualizing the results on a few random images from the test set\n",
        "\n",
        "# Defining the figure using matplotlib.pyplot function\n",
        "fig, axes = plt.subplots(1,4, figsize=(15, 15))               \n",
        "random_batch =  random.randint(0, len(test_set)-1)\n",
        "random_images, random_labels = test_set[random_batch]\n",
        "pre_dictions = model.predict(random_images)\n",
        "\n",
        "# For loops are used to iterate over a sequence, in this case for each iteration images being plotted \n",
        "for image_number, axs in enumerate(axes):                     \n",
        "    img = random_images[image_number]\n",
        "    axs.imshow(img)\n",
        "    axs.axis(\"off\")\n",
        "    prediction = Class_names[np.argmax(pre_dictions[image_number])]\n",
        "    label = Class_names[np.argmax(random_labels[image_number])]\n",
        "    axs.set_title(\"Predicted Class: {} \\n True Class: {}\".format(prediction, label))"
      ],
      "metadata": {
        "id": "ZdqJagr6NuZq"
      },
      "execution_count": null,
      "outputs": []
    },
    {
      "cell_type": "code",
      "source": [
        "predictions=[]\n",
        "labels=[]\n",
        "prediction_list=[]\n",
        "label_list=[]\n",
        "for batch in range (0,30):\n",
        "  images,label_s = test_set[batch]\n",
        "  predictions.append(model.predict(images))\n",
        "  labels.append(label_s)\n",
        "  for x,y in zip(predictions,labels):\n",
        "    for image_number in x:\n",
        "      prediction_list.append(image_number)\n",
        "    for label_number in y:\n",
        "      label_list.append(label_number)\n",
        "       \n",
        "final_predictions_list=[]    \n",
        "final_label_list=[]\n",
        "for image_number in range(0,599):\n",
        "    final_predictions_list.append(np.argmax(prediction_list[image_number]))\n",
        "    final_label_list.append(np.argmax(label_list[image_number]))"
      ],
      "metadata": {
        "id": "TwrMcKNPZILs"
      },
      "execution_count": 15,
      "outputs": []
    },
    {
      "cell_type": "code",
      "source": [
        "# printing prediction by model and its corresponding label\n",
        "print(final_predictions_list,\"\\n\",final_label_list) "
      ],
      "metadata": {
        "colab": {
          "base_uri": "https://localhost:8080/"
        },
        "id": "tHtuLdUyZrYH",
        "outputId": "ab59ac7c-8505-40da-c437-497231c1da83"
      },
      "execution_count": 16,
      "outputs": [
        {
          "output_type": "stream",
          "name": "stdout",
          "text": [
            "[0, 0, 3, 1, 0, 0, 1, 2, 0, 0, 0, 1, 3, 0, 3, 2, 0, 1, 0, 2, 0, 0, 3, 1, 0, 0, 1, 2, 0, 0, 0, 1, 3, 0, 3, 2, 0, 1, 0, 2, 1, 2, 0, 0, 0, 2, 1, 2, 1, 3, 0, 0, 1, 0, 1, 1, 3, 1, 1, 2, 0, 0, 3, 1, 0, 0, 1, 2, 0, 0, 0, 1, 3, 0, 3, 2, 0, 1, 0, 2, 1, 2, 0, 0, 0, 2, 1, 2, 1, 3, 0, 0, 1, 0, 1, 1, 3, 1, 1, 2, 1, 0, 1, 3, 0, 1, 1, 1, 3, 0, 3, 0, 1, 0, 1, 1, 0, 0, 0, 2, 0, 0, 3, 1, 0, 0, 1, 2, 0, 0, 0, 1, 3, 0, 3, 2, 0, 1, 0, 2, 1, 2, 0, 0, 0, 2, 1, 2, 1, 3, 0, 0, 1, 0, 1, 1, 3, 1, 1, 2, 1, 0, 1, 3, 0, 1, 1, 1, 3, 0, 3, 0, 1, 0, 1, 1, 0, 0, 0, 2, 3, 0, 3, 1, 3, 1, 1, 0, 2, 0, 0, 0, 0, 1, 1, 3, 1, 0, 1, 0, 0, 0, 3, 1, 0, 0, 1, 2, 0, 0, 0, 1, 3, 0, 3, 2, 0, 1, 0, 2, 1, 2, 0, 0, 0, 2, 1, 2, 1, 3, 0, 0, 1, 0, 1, 1, 3, 1, 1, 2, 1, 0, 1, 3, 0, 1, 1, 1, 3, 0, 3, 0, 1, 0, 1, 1, 0, 0, 0, 2, 3, 0, 3, 1, 3, 1, 1, 0, 2, 0, 0, 0, 0, 1, 1, 3, 1, 0, 1, 0, 0, 0, 1, 3, 3, 2, 0, 1, 0, 1, 0, 3, 1, 3, 1, 1, 1, 1, 3, 1, 0, 0, 3, 1, 0, 0, 1, 2, 0, 0, 0, 1, 3, 0, 3, 2, 0, 1, 0, 2, 1, 2, 0, 0, 0, 2, 1, 2, 1, 3, 0, 0, 1, 0, 1, 1, 3, 1, 1, 2, 1, 0, 1, 3, 0, 1, 1, 1, 3, 0, 3, 0, 1, 0, 1, 1, 0, 0, 0, 2, 3, 0, 3, 1, 3, 1, 1, 0, 2, 0, 0, 0, 0, 1, 1, 3, 1, 0, 1, 0, 0, 0, 1, 3, 3, 2, 0, 1, 0, 1, 0, 3, 1, 3, 1, 1, 1, 1, 3, 1, 1, 3, 1, 1, 1, 0, 3, 0, 3, 2, 3, 0, 1, 0, 1, 0, 1, 0, 1, 3, 0, 0, 3, 1, 0, 0, 1, 2, 0, 0, 0, 1, 3, 0, 3, 2, 0, 1, 0, 2, 1, 2, 0, 0, 0, 2, 1, 2, 1, 3, 0, 0, 1, 0, 1, 1, 3, 1, 1, 2, 1, 0, 1, 3, 0, 1, 1, 1, 3, 0, 3, 0, 1, 0, 1, 1, 0, 0, 0, 2, 3, 0, 3, 1, 3, 1, 1, 0, 2, 0, 0, 0, 0, 1, 1, 3, 1, 0, 1, 0, 0, 0, 1, 3, 3, 2, 0, 1, 0, 1, 0, 3, 1, 3, 1, 1, 1, 1, 3, 1, 1, 3, 1, 1, 1, 0, 3, 0, 3, 2, 3, 0, 1, 0, 1, 0, 1, 0, 1, 3, 3, 1, 1, 1, 0, 1, 1, 0, 0, 0, 3, 0, 3, 3, 1, 0, 1, 1, 3, 0, 0, 0, 3, 1, 0, 0, 1, 2, 0, 0, 0, 1, 3, 0, 3, 2, 0, 1, 0, 2, 1, 2, 0, 0, 0, 2, 1, 2, 1, 3, 0, 0, 1, 0, 1, 1, 3, 1, 1] \n",
            " [3, 0, 3, 1, 0, 0, 1, 2, 0, 0, 2, 1, 3, 0, 3, 2, 0, 1, 0, 2, 3, 0, 3, 1, 0, 0, 1, 2, 0, 0, 2, 1, 3, 0, 3, 2, 0, 1, 0, 2, 1, 3, 0, 0, 2, 2, 1, 2, 1, 3, 0, 0, 1, 0, 1, 1, 3, 1, 1, 2, 3, 0, 3, 1, 0, 0, 1, 2, 0, 0, 2, 1, 3, 0, 3, 2, 0, 1, 0, 2, 1, 3, 0, 0, 2, 2, 1, 2, 1, 3, 0, 0, 1, 0, 1, 1, 3, 1, 1, 2, 1, 0, 1, 3, 0, 1, 1, 1, 3, 0, 3, 0, 1, 0, 1, 1, 0, 0, 0, 2, 3, 0, 3, 1, 0, 0, 1, 2, 0, 0, 2, 1, 3, 0, 3, 2, 0, 1, 0, 2, 1, 3, 0, 0, 2, 2, 1, 2, 1, 3, 0, 0, 1, 0, 1, 1, 3, 1, 1, 2, 1, 0, 1, 3, 0, 1, 1, 1, 3, 0, 3, 0, 1, 0, 1, 1, 0, 0, 0, 2, 3, 0, 3, 1, 3, 0, 1, 0, 2, 0, 0, 0, 0, 3, 1, 3, 1, 0, 1, 0, 3, 0, 3, 1, 0, 0, 1, 2, 0, 0, 2, 1, 3, 0, 3, 2, 0, 1, 0, 2, 1, 3, 0, 0, 2, 2, 1, 2, 1, 3, 0, 0, 1, 0, 1, 1, 3, 1, 1, 2, 1, 0, 1, 3, 0, 1, 1, 1, 3, 0, 3, 0, 1, 0, 1, 1, 0, 0, 0, 2, 3, 0, 3, 1, 3, 0, 1, 0, 2, 0, 0, 0, 0, 3, 1, 3, 1, 0, 1, 0, 0, 0, 1, 3, 3, 2, 2, 1, 0, 1, 0, 3, 1, 3, 1, 1, 1, 1, 3, 1, 3, 0, 3, 1, 0, 0, 1, 2, 0, 0, 2, 1, 3, 0, 3, 2, 0, 1, 0, 2, 1, 3, 0, 0, 2, 2, 1, 2, 1, 3, 0, 0, 1, 0, 1, 1, 3, 1, 1, 2, 1, 0, 1, 3, 0, 1, 1, 1, 3, 0, 3, 0, 1, 0, 1, 1, 0, 0, 0, 2, 3, 0, 3, 1, 3, 0, 1, 0, 2, 0, 0, 0, 0, 3, 1, 3, 1, 0, 1, 0, 0, 0, 1, 3, 3, 2, 2, 1, 0, 1, 0, 3, 1, 3, 1, 1, 1, 1, 3, 1, 1, 3, 1, 1, 1, 0, 3, 0, 3, 2, 3, 0, 3, 0, 1, 0, 1, 0, 1, 2, 3, 0, 3, 1, 0, 0, 1, 2, 0, 0, 2, 1, 3, 0, 3, 2, 0, 1, 0, 2, 1, 3, 0, 0, 2, 2, 1, 2, 1, 3, 0, 0, 1, 0, 1, 1, 3, 1, 1, 2, 1, 0, 1, 3, 0, 1, 1, 1, 3, 0, 3, 0, 1, 0, 1, 1, 0, 0, 0, 2, 3, 0, 3, 1, 3, 0, 1, 0, 2, 0, 0, 0, 0, 3, 1, 3, 1, 0, 1, 0, 0, 0, 1, 3, 3, 2, 2, 1, 0, 1, 0, 3, 1, 3, 1, 1, 1, 1, 3, 1, 1, 3, 1, 1, 1, 0, 3, 0, 3, 2, 3, 0, 3, 0, 1, 0, 1, 0, 1, 2, 3, 1, 1, 1, 0, 1, 1, 0, 0, 0, 2, 0, 3, 3, 1, 0, 1, 1, 3, 0, 3, 0, 3, 1, 0, 0, 1, 2, 0, 0, 2, 1, 3, 0, 3, 2, 0, 1, 0, 2, 1, 3, 0, 0, 2, 2, 1, 2, 1, 3, 0, 0, 1, 0, 1, 1, 3, 1, 1]\n"
          ]
        }
      ]
    },
    {
      "cell_type": "code",
      "source": [
        "# Now there are 4 major parametres to judge a classification model -> accuracy , precision , f1_score , recall_score\n",
        "# Hence we wil be calculating them one by one"
      ],
      "metadata": {
        "id": "jmzPWoCn-Gca"
      },
      "execution_count": 17,
      "outputs": []
    },
    {
      "cell_type": "code",
      "source": [
        "from sklearn.metrics import precision_score\n",
        "precision_score(final_label_list,final_predictions_list, average='weighted') # precision "
      ],
      "metadata": {
        "colab": {
          "base_uri": "https://localhost:8080/"
        },
        "id": "xajDZnlSgl0d",
        "outputId": "d83955df-e262-4a05-b29c-2c9fa7e99f3e"
      },
      "execution_count": 18,
      "outputs": [
        {
          "output_type": "execute_result",
          "data": {
            "text/plain": [
              "0.9247724822439354"
            ]
          },
          "metadata": {},
          "execution_count": 18
        }
      ]
    },
    {
      "cell_type": "code",
      "source": [
        "from sklearn.metrics import f1_score\n",
        "f1_score(final_label_list,final_predictions_list, average='weighted')# f1 score"
      ],
      "metadata": {
        "colab": {
          "base_uri": "https://localhost:8080/"
        },
        "id": "j4opD7_LZ1SM",
        "outputId": "37a6a442-0fa2-4eb0-c47b-2bdf8bb9e91d"
      },
      "execution_count": 19,
      "outputs": [
        {
          "output_type": "execute_result",
          "data": {
            "text/plain": [
              "0.9207395992132236"
            ]
          },
          "metadata": {},
          "execution_count": 19
        }
      ]
    },
    {
      "cell_type": "code",
      "source": [
        "from sklearn.metrics import recall_score\n",
        "recall_score(final_label_list,final_predictions_list,average=\"weighted\")# recall_score"
      ],
      "metadata": {
        "colab": {
          "base_uri": "https://localhost:8080/"
        },
        "id": "-ilaaW8zbWHz",
        "outputId": "ed13db45-d23a-40e6-d510-ab0a932a53d2"
      },
      "execution_count": 20,
      "outputs": [
        {
          "output_type": "execute_result",
          "data": {
            "text/plain": [
              "0.9232053422370617"
            ]
          },
          "metadata": {},
          "execution_count": 20
        }
      ]
    },
    {
      "cell_type": "code",
      "source": [
        "cm=tf.math.confusion_matrix(final_label_list,final_predictions_list)# confusion matrix \n",
        "print(cm)"
      ],
      "metadata": {
        "colab": {
          "base_uri": "https://localhost:8080/"
        },
        "id": "bHnQC8sIg44Y",
        "outputId": "38ca93ce-a9e7-4cb9-f8c7-0550a02d135f"
      },
      "execution_count": 21,
      "outputs": [
        {
          "output_type": "stream",
          "name": "stdout",
          "text": [
            "tf.Tensor(\n",
            "[[202   4   0   0]\n",
            " [  0 197   0   0]\n",
            " [ 18   0  58   3]\n",
            " [  8   6   7  96]], shape=(4, 4), dtype=int32)\n"
          ]
        }
      ]
    },
    {
      "cell_type": "code",
      "source": [
        "plt.figure(figsize=(10,7))# visualizing confusion_matrix using heat map \n",
        "sn.heatmap(cm,annot=True,fmt='d')\n",
        "plt.xlabel('Predicted')\n",
        "plt.ylabel('Truth')"
      ],
      "metadata": {
        "colab": {
          "base_uri": "https://localhost:8080/",
          "height": 460
        },
        "id": "S-xwz298hGA5",
        "outputId": "29b523ea-d1ae-4fe7-fa30-6dab298f782f"
      },
      "execution_count": 22,
      "outputs": [
        {
          "output_type": "execute_result",
          "data": {
            "text/plain": [
              "Text(69.0, 0.5, 'Truth')"
            ]
          },
          "metadata": {},
          "execution_count": 22
        },
        {
          "output_type": "display_data",
          "data": {
            "text/plain": [
              "<Figure size 720x504 with 2 Axes>"
            ],
            "image/png": "[encoded data removed]"
          },
          "metadata": {
            "needs_background": "light"
          }
        }
      ]
    }
  ]
}